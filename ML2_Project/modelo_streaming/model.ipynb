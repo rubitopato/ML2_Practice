{
 "cells": [
  {
   "cell_type": "markdown",
   "metadata": {},
   "source": [
    "#### Imports"
   ]
  },
  {
   "cell_type": "code",
   "execution_count": 1,
   "metadata": {},
   "outputs": [],
   "source": [
    "import pandas as pd\n",
    "from river import stream, compose, preprocessing, evaluate, metrics, linear_model, utils, stats, feature_extraction\n",
    "from river.tree import HoeffdingTreeRegressor\n",
    "import datetime\n",
    "import matplotlib.pyplot as plt\n",
    "from tqdm import tqdm\n",
    "from river import neighbors\n",
    "import copy"
   ]
  },
  {
   "cell_type": "markdown",
   "metadata": {},
   "source": [
    "#### Functions"
   ]
  },
  {
   "cell_type": "code",
   "execution_count": null,
   "metadata": {},
   "outputs": [],
   "source": [
    "def float_converter(a):\n",
    "    try:\n",
    "        a=float(a)\n",
    "    except ValueError:\n",
    "        a=None\n",
    "    return a\n",
    "\n",
    "past_metrics = {\"LastDay\": 0}\n",
    "\n",
    "\n",
    "def divide_date(x):  #feature enginnering\n",
    "    try:\n",
    "        dt = datetime.datetime.strptime(x['Datetime'], \"%Y-%m-%d %H:%M:%S\")\n",
    "        x[\"Year\"]=dt.year\n",
    "        x[\"Month\"]=dt.month\n",
    "        x[\"Day\"]=dt.day\n",
    "        x[\"WeekOfYear\"]=dt.isocalendar().week\n",
    "        x[\"DayOfWeek\"]=dt.weekday()\n",
    "        x[\"DayOfYear\"]=dt.timetuple().tm_yday\n",
    "        x[\"Weekend\"]= int(dt.weekday() >= 5)\n",
    "        x[\"Quarter\"]=int((dt.month - 1) // 3 + 1)\n",
    "        x[\"Hour\"]=dt.hour\n",
    "        x[\"LastDay\"]=past_metrics[\"LastDay\"]\n",
    "    except:\n",
    "        x[\"Year\"] = None\n",
    "        x[\"Month\"] = None\n",
    "        x[\"Day\"] = None\n",
    "        x[\"WeekOfYear\"] = None\n",
    "        x[\"DayOfWeek\"] = None\n",
    "        x[\"DayOfYear\"] = None\n",
    "        x[\"Weekend\"] = None\n",
    "        x[\"Quarter\"] = None\n",
    "        x[\"Hour\"] = None\n",
    "        x[\"LastDay\"] = None\n",
    "    return x\n",
    "\n",
    "\n",
    "def fit_model(model, metric):\n",
    "    # Dataset8\n",
    "    energy_consumption = stream.iter_csv(dataset_path, target=\"AEP_MW\", drop_nones=True, converters={'AEP_MW':float_converter})\n",
    "\n",
    "    y_trues = []\n",
    "    y_preds = []\n",
    "    for x, y in tqdm(energy_consumption, desc=\"Processing data\", unit=\" sample\"):\n",
    "        y_pred = model.predict_one(x)\n",
    "\n",
    "        model.learn_one(x, y)\n",
    "\n",
    "        metric.update(y, y_pred)\n",
    "\n",
    "        past_metrics[\"LastDay\"] = y\n",
    "        y_trues.append(y)\n",
    "        y_preds.append(y_pred)\n",
    "\n",
    "    return y_trues, y_preds\n",
    "\n",
    "\n",
    "def print_model_data(y_trues, y_preds):\n",
    "    \n",
    "    plt.figure(figsize=(15,15))\n",
    "    plt.subplot(4,1,1)\n",
    "    plt.plot(y_trues[:1000], marker='.', linestyle='-', color='b', label='True values')\n",
    "    plt.grid(True)\n",
    "\n",
    "    plt.figure(figsize=(15,15))\n",
    "    plt.subplot(4,1,2)\n",
    "    plt.plot(y_preds[:1000], marker='.', linestyle='-', color='r', label='Predicted values')\n",
    "    plt.grid(True)\n",
    "\n",
    "    plt.figure(figsize=(15,15))\n",
    "    plt.subplot(4,1,3)\n",
    "    plt.plot(y_trues[:1000], marker='.', linestyle='-', color='b', label='True values')\n",
    "    plt.plot(y_preds[:1000], marker='.', linestyle='-', color='r', label='Predicted values')\n",
    "\n",
    "    plt.figure(figsize=(15,15))\n",
    "    plt.subplot(4,1,4)\n",
    "    plt.plot(y_trues, marker='.', linestyle='-', color='b', label='True values')\n",
    "    plt.plot(y_preds, marker='.', linestyle='-', color='r', label='Predicted values')\n",
    "\n",
    "    # Personalización\n",
    "    plt.title('Comparison of true and predicted values')\n",
    "    plt.xlabel('Instance')\n",
    "    plt.ylabel('Value')\n",
    "    plt.grid(True)\n",
    "    plt.legend()\n",
    "\n",
    "    # Mostrar la gráfica\n",
    "    plt.show()"
   ]
  },
  {
   "cell_type": "markdown",
   "metadata": {},
   "source": [
    "#### Preprocessing"
   ]
  },
  {
   "cell_type": "markdown",
   "metadata": {},
   "source": [
    "Reading the dataset"
   ]
  },
  {
   "cell_type": "code",
   "execution_count": 3,
   "metadata": {},
   "outputs": [],
   "source": [
    "# data = pd.read_csv(\"../dataset/AEP_hourly.csv\")\n",
    "# data['Datetime'] = pd.to_datetime(data['Datetime'])\n",
    "\n",
    "# # Ordenar por la columna 'Fecha' en orden ascendente\n",
    "# df_sorted = data.sort_values(by='Datetime', ascending=True, ignore_index=True)\n",
    "# df_sorted.to_csv(\"../dataset/AEP_hourly.csv\", index=False)"
   ]
  },
  {
   "cell_type": "markdown",
   "metadata": {},
   "source": [
    "Create data preprocessing pipeline"
   ]
  },
  {
   "cell_type": "code",
   "execution_count": 4,
   "metadata": {},
   "outputs": [],
   "source": [
    "preprocessing_pipeline = compose.Pipeline(\n",
    "    ('features', compose.TransformerUnion(\n",
    "        ('date_features', compose.FuncTransformer(divide_date)),\n",
    "        ('last_7_mean', feature_extraction.TargetAgg(by=None, how=utils.Rolling(stats.Mean(),7),target_name=\"last_7_mean\")),\n",
    "        ('last_14_mean', feature_extraction.TargetAgg(by=None, how=utils.Rolling(stats.Mean(),14), target_name=\"last_14_mean\"))\n",
    "    )),\n",
    "    ('drop_non_features', compose.Discard('Datetime')),\n",
    ")"
   ]
  },
  {
   "cell_type": "markdown",
   "metadata": {},
   "source": [
    "Training Bayesian Linear Regression Model"
   ]
  },
  {
   "cell_type": "code",
   "execution_count": 5,
   "metadata": {},
   "outputs": [],
   "source": [
    "dataset_path = \"../dataset/AEP_hourly.csv\""
   ]
  },
  {
   "cell_type": "code",
   "execution_count": null,
   "metadata": {},
   "outputs": [
    {
     "name": "stderr",
     "output_type": "stream",
     "text": [
      "Processing data: 121273 sample [00:42, 2849.11 sample/s]\n"
     ]
    }
   ],
   "source": [
    "# Training Metrics\n",
    "metric = metrics.RMSE()\n",
    "\n",
    "# Creating the model\n",
    "model_1 = copy.deepcopy(preprocessing_pipeline) | ('lin_reg_bay', linear_model.BayesianLinearRegression())\n",
    "\n",
    "# Training the model\n",
    "y_trues_bay, y_pred_bay = fit_model(model_1, metric)\n"
   ]
  },
  {
   "cell_type": "markdown",
   "metadata": {},
   "source": [
    "Training Hoeffding Tree Regressor Model"
   ]
  },
  {
   "cell_type": "code",
   "execution_count": null,
   "metadata": {},
   "outputs": [
    {
     "name": "stderr",
     "output_type": "stream",
     "text": [
      "Processing data: 121273 sample [00:45, 2684.64 sample/s]\n"
     ]
    }
   ],
   "source": [
    "# Training Metrics\n",
    "metric = metrics.RMSE()\n",
    "\n",
    "# Creating the model\n",
    "model_2 = copy.deepcopy(preprocessing_pipeline) | ('lin_reg_hoef', HoeffdingTreeRegressor(grace_period=250))\n",
    "\n",
    "# Training the model\n",
    "y_trues_hoef, y_pred_hoef = fit_model(model_2, metric)"
   ]
  },
  {
   "cell_type": "markdown",
   "metadata": {},
   "source": [
    "Training KNN Model"
   ]
  },
  {
   "cell_type": "code",
   "execution_count": 8,
   "metadata": {},
   "outputs": [
    {
     "name": "stderr",
     "output_type": "stream",
     "text": [
      "Processing data: 121273 sample [05:18, 380.19 sample/s]\n"
     ]
    }
   ],
   "source": [
    "# Training Metrics\n",
    "metric = metrics.RMSE()\n",
    "\n",
    "# Creating the model\n",
    "model_3 = copy.deepcopy(preprocessing_pipeline) | ('lin_reg_knn', neighbors.KNNRegressor())\n",
    "\n",
    "# Training the model\n",
    "y_trues_hoef, y_pred_hoef = fit_model(model_3, metric)"
   ]
  }
 ],
 "metadata": {
  "kernelspec": {
   "display_name": "Python 3",
   "language": "python",
   "name": "python3"
  },
  "language_info": {
   "codemirror_mode": {
    "name": "ipython",
    "version": 3
   },
   "file_extension": ".py",
   "mimetype": "text/x-python",
   "name": "python",
   "nbconvert_exporter": "python",
   "pygments_lexer": "ipython3",
   "version": "3.12.8"
  }
 },
 "nbformat": 4,
 "nbformat_minor": 2
}
