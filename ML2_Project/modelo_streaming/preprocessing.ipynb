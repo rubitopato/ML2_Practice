{
 "cells": [
  {
   "cell_type": "code",
   "execution_count": 1,
   "metadata": {},
   "outputs": [
    {
     "name": "stdout",
     "output_type": "stream",
     "text": [
      "Accuracy: 0.00%\n"
     ]
    }
   ],
   "source": [
    "from river import stream, compose, preprocessing, evaluate, metrics\n",
    "from river.tree import HoeffdingTreeClassifier\n",
    "import datetime\n",
    "\n",
    "dataset_path = \"../dataset/AEP_hourly.csv\"\n",
    "\n",
    "def float_converter(a):\n",
    "    try:\n",
    "        a=float(a)\n",
    "    except ValueError:\n",
    "        a=None\n",
    "    return a\n",
    "\n",
    "def divide_date(x):#feature enginnering\n",
    "    try:\n",
    "        dt = datetime.datetime.strptime(x['Datetime'], \"%Y-%m-%d %H:%M:%S\")\n",
    "        x[\"Year\"]=dt.year\n",
    "        x[\"Month\"]=dt.month\n",
    "        x[\"Day\"]=dt.day\n",
    "        x[\"Hour\"]=dt.hour\n",
    "    except:\n",
    "        x[\"Year\"]=x[\"Month\"]=x[\"Day\"]=x[\"Hour\"]=None\n",
    "    return x\n",
    "\n",
    "energy_consumption = stream.iter_csv(dataset_path, target=\"AEP_MW\", drop_nones=True, converters={'AEP_MW':float_converter})\n",
    "\n",
    "model= (\n",
    "    compose.FuncTransformer(divide_date) + \n",
    "    compose.Select('Month','Day','Hour') | \n",
    "    preprocessing.OneHotEncoder(drop_zeros=False) | \n",
    "    compose.Discard(\"Datetime\")\n",
    ")\n",
    "\n",
    "model|= HoeffdingTreeClassifier(grace_period=50)\n",
    "\n",
    "print(evaluate.progressive_val_score(dataset=energy_consumption, model=model, metric=metrics.Accuracy()))\n",
    "                            "
   ]
  }
 ],
 "metadata": {
  "kernelspec": {
   "display_name": ".venv",
   "language": "python",
   "name": "python3"
  },
  "language_info": {
   "codemirror_mode": {
    "name": "ipython",
    "version": 3
   },
   "file_extension": ".py",
   "mimetype": "text/x-python",
   "name": "python",
   "nbconvert_exporter": "python",
   "pygments_lexer": "ipython3",
   "version": "3.10.0"
  }
 },
 "nbformat": 4,
 "nbformat_minor": 2
}
